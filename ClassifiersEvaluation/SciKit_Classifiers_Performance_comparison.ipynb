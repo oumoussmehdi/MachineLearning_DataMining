{
 "cells": [
  {
   "cell_type": "code",
   "execution_count": 7,
   "metadata": {
    "collapsed": false
   },
   "outputs": [
    {
     "data": {
      "text/plain": [
       "array([0, 1, 2])"
      ]
     },
     "execution_count": 7,
     "metadata": {},
     "output_type": "execute_result"
    }
   ],
   "source": [
    "import numpy as np\n",
    "from sklearn import datasets\n",
    "iris = datasets.load_iris()\n",
    "iris_X = iris.data\n",
    "iris_Y = iris.target\n",
    "np.unique(iris_Y)"
   ]
  },
  {
   "cell_type": "code",
   "execution_count": 8,
   "metadata": {
    "collapsed": true
   },
   "outputs": [],
   "source": [
    "# second lab starts here\n",
    "#comparing 3 classifiers \n",
    "from sklearn.svm import SVC\n",
    "from sklearn.tree import DecisionTreeClassifier\n",
    "from sklearn.neighbors import KNeighborsClassifier\n",
    "knn = KNeighborsClassifier()\n",
    "dt = DecisionTreeClassifier(max_depth=5)\n",
    "svc = SVC(kernel=\"linear\", C=0.025)\n",
    "myClassifiers = [knn, dt, svc]"
   ]
  },
  {
   "cell_type": "code",
   "execution_count": 15,
   "metadata": {
    "collapsed": false
   },
   "outputs": [
    {
     "name": "stdout",
     "output_type": "stream",
     "text": [
      "[ 0.98039216  0.98039216  1.        ]\n",
      "0.986928104575\n",
      "[ 0.98039216  0.92156863  0.97916667]\n",
      "0.960375816993\n",
      "[ 0.94117647  0.88235294  0.97916667]\n",
      "0.934232026144\n"
     ]
    }
   ],
   "source": [
    "from sklearn.cross_validation import cross_val_score\n",
    "evaluation_results = []\n",
    "evaluation_means = []\n",
    "for c in myClassifiers:\n",
    "    c.fit(iris_X, iris_Y)\n",
    "    cv_scores = cross_val_score(c, iris_X, iris_Y, scoring='accuracy')\n",
    "    print(cv_scores)\n",
    "    evaluation_results.append(cv_scores)\n",
    "    cv_mean = cv_scores.mean()\n",
    "    print(cv_mean)\n",
    "    evaluation_means.append(cv_mean)"
   ]
  },
  {
   "cell_type": "code",
   "execution_count": 19,
   "metadata": {
    "collapsed": false
   },
   "outputs": [
    {
     "data": {
      "text/plain": [
       "([<matplotlib.axis.XTick at 0x7f484c0c2b38>,\n",
       "  <matplotlib.axis.XTick at 0x7f484c103fd0>,\n",
       "  <matplotlib.axis.XTick at 0x7f484bfc2080>],\n",
       " <a list of 3 Text xticklabel objects>)"
      ]
     },
     "execution_count": 19,
     "metadata": {},
     "output_type": "execute_result"
    },
    {
     "data": {
      "image/png": "[encoded data removed]",
      "text/plain": [
       "<matplotlib.figure.Figure at 0x7f485544bfd0>"
      ]
     },
     "metadata": {},
     "output_type": "display_data"
    }
   ],
   "source": [
    "import matplotlib.pyplot as plt\n",
    "%matplotlib inline\n",
    "#plotting classifiers evalution results\n",
    "#plt.figure(figsize=(15,5))\n",
    "x_axis = ['knn', 'dt', 'svc']\n",
    "y_axis = evaluation_means\n",
    "ind = np.arange(len(x_axis))\n",
    "plt.bar(ind, y_axis)\n",
    "plt.xticks(ind, x_axis)"
   ]
  },
  {
   "cell_type": "code",
   "execution_count": 32,
   "metadata": {
    "collapsed": false,
    "scrolled": false
   },
   "outputs": [
    {
     "data": {
      "text/plain": [
       "<matplotlib.axes._subplots.AxesSubplot at 0x7f4849503e10>"
      ]
     },
     "execution_count": 32,
     "metadata": {},
     "output_type": "execute_result"
    },
    {
     "data": {
      "image/png": "[encoded data removed]",
      "text/plain": [
       "<matplotlib.figure.Figure at 0x7f48495e02e8>"
      ]
     },
     "metadata": {},
     "output_type": "display_data"
    }
   ],
   "source": [
    "import pandas as pd\n",
    "df2 = pd.DataFrame(evaluation_results, index=x_axis, columns=['Iris-setosa', 'Iris-versicolor', 'Iris-virginica'])\n",
    "df2.plot.bar()"
   ]
  }
 ],
 "metadata": {
  "kernelspec": {
   "display_name": "Python [Root]",
   "language": "python",
   "name": "Python [Root]"
  },
  "language_info": {
   "codemirror_mode": {
    "name": "ipython",
    "version": 3
   },
   "file_extension": ".py",
   "mimetype": "text/x-python",
   "name": "python",
   "nbconvert_exporter": "python",
   "pygments_lexer": "ipython3",
   "version": "3.5.2"
  }
 },
 "nbformat": 4,
 "nbformat_minor": 0
}
