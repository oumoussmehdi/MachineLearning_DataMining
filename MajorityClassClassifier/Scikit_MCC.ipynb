{
 "cells": [
  {
   "cell_type": "code",
   "execution_count": 1,
   "metadata": {
    "collapsed": true
   },
   "outputs": [],
   "source": [
    "import numpy as np\n",
    "from sklearn.metrics import accuracy_score\n",
    "from sklearn import datasets\n",
    "iris = datasets.load_iris()\n",
    "iris_X = iris.data\n",
    "iris_Y = iris.target\n",
    "np.random.seed(0)\n",
    "indices = np.random.permutation(len(iris_X))\n",
    "iris_X_train = iris_X[indices[:-10]]\n",
    "iris_Y_train = iris_Y[indices[:-10]]\n",
    "iris_X_test = iris_X[indices[-10:]]\n",
    "iris_Y_test = iris_Y[indices[-10:]]"
   ]
  },
  {
   "cell_type": "code",
   "execution_count": 2,
   "metadata": {
    "collapsed": false
   },
   "outputs": [
    {
     "data": {
      "text/plain": [
       "array([0, 1, 2])"
      ]
     },
     "execution_count": 2,
     "metadata": {},
     "output_type": "execute_result"
    }
   ],
   "source": [
    "np.unique(iris_Y)"
   ]
  },
  {
   "cell_type": "code",
   "execution_count": 3,
   "metadata": {
    "collapsed": false
   },
   "outputs": [],
   "source": [
    "class MyClassifier:\n",
    "    def __init__ (self):\n",
    "        print(\"this a majority class classifier\")\n",
    "    \n",
    "    def fit(self, X, Y):\n",
    "        from operator import itemgetter\n",
    "        c = dict()\n",
    "        for item in Y:\n",
    "            c[item] = c.get(item, 0) + 1\n",
    "        x = max(c.items(), key=itemgetter(1))\n",
    "        self.Y = x[0]\n",
    "        return self\n",
    "\n",
    "    def predict(self, X):\n",
    "        return [self.Y for i in range(len(X))]"
   ]
  },
  {
   "cell_type": "code",
   "execution_count": 4,
   "metadata": {
    "collapsed": false
   },
   "outputs": [
    {
     "name": "stdout",
     "output_type": "stream",
     "text": [
      "this a majority class classifier\n"
     ]
    },
    {
     "data": {
      "text/plain": [
       "<__main__.MyClassifier at 0x7f6072989630>"
      ]
     },
     "execution_count": 4,
     "metadata": {},
     "output_type": "execute_result"
    }
   ],
   "source": [
    "mySuperClassifier = MyClassifier()\n",
    "mySuperClassifier.fit(iris_X_train, iris_Y_train)\n"
   ]
  },
  {
   "cell_type": "code",
   "execution_count": 5,
   "metadata": {
    "collapsed": false
   },
   "outputs": [
    {
     "data": {
      "text/plain": [
       "array([1, 1, 1, 0, 0, 0, 2, 1, 2, 0])"
      ]
     },
     "execution_count": 5,
     "metadata": {},
     "output_type": "execute_result"
    }
   ],
   "source": [
    "iris_Y_test"
   ]
  },
  {
   "cell_type": "code",
   "execution_count": 6,
   "metadata": {
    "collapsed": false
   },
   "outputs": [
    {
     "data": {
      "text/plain": [
       "[2, 2, 2, 2, 2, 2, 2, 2, 2, 2]"
      ]
     },
     "execution_count": 6,
     "metadata": {},
     "output_type": "execute_result"
    }
   ],
   "source": [
    "iris_Y_predict = mySuperClassifier.predict(iris_X_test)\n",
    "iris_Y_predict"
   ]
  },
  {
   "cell_type": "code",
   "execution_count": 7,
   "metadata": {
    "collapsed": false
   },
   "outputs": [
    {
     "name": "stdout",
     "output_type": "stream",
     "text": [
      "0.200\n"
     ]
    }
   ],
   "source": [
    "accuracy = accuracy_score(iris_Y_test, iris_Y_predict)\n",
    "print('%.3f'%accuracy)"
   ]
  },
  {
   "cell_type": "code",
   "execution_count": 8,
   "metadata": {
    "collapsed": false
   },
   "outputs": [
    {
     "data": {
      "text/plain": [
       "array([[0, 0, 4],\n",
       "       [0, 0, 4],\n",
       "       [0, 0, 2]])"
      ]
     },
     "execution_count": 8,
     "metadata": {},
     "output_type": "execute_result"
    }
   ],
   "source": [
    "#2. justify why the evaluation results using the new classifier are correct\n",
    "#Confusion Matrix\n",
    "from sklearn.metrics import confusion_matrix\n",
    "confusion_matrix(iris_Y_test, iris_Y_predict, labels=[0, 1, 2])"
   ]
  },
  {
   "cell_type": "code",
   "execution_count": 9,
   "metadata": {
    "collapsed": false
   },
   "outputs": [
    {
     "data": {
      "text/plain": [
       "'Accuracy is defined as the fraction of instances that are correctly classified.\\naccuracy = sum(diag) / n, where: \\ndiag: number of correctly classified instances per class  \\nn: number of instances\\n(0+0+2)/10 = 0.200\\n'"
      ]
     },
     "execution_count": 9,
     "metadata": {},
     "output_type": "execute_result"
    }
   ],
   "source": [
    "'''Accuracy is defined as the fraction of instances that are correctly classified.\n",
    "accuracy = sum(diag) / n, where: \n",
    "diag: number of correctly classified instances per class  \n",
    "n: number of instances\n",
    "(0+0+2)/10 = 0.200\n",
    "'''"
   ]
  },
  {
   "cell_type": "code",
   "execution_count": 10,
   "metadata": {
    "collapsed": false
   },
   "outputs": [
    {
     "name": "stdout",
     "output_type": "stream",
     "text": [
      "1.000\n"
     ]
    }
   ],
   "source": [
    "#3. OPTIONAL: create another classifier with higher performance than the majority class classifier\n",
    "#SVC\n",
    "from sklearn.svm import SVC\n",
    "svc = SVC(kernel=\"linear\", C=0.025)\n",
    "c1 = svc.fit(iris_X_train, iris_Y_train)\n",
    "accuracy1 = accuracy_score(iris_Y_test, c1.predict(iris_X_test))\n",
    "print('%.3f'%accuracy1)"
   ]
  },
  {
   "cell_type": "code",
   "execution_count": 11,
   "metadata": {
    "collapsed": false
   },
   "outputs": [
    {
     "name": "stdout",
     "output_type": "stream",
     "text": [
      "1.000\n"
     ]
    }
   ],
   "source": [
    "from sklearn.ensemble import BaggingClassifier\n",
    "bag = BaggingClassifier(base_estimator=svc,\n",
    "                         n_estimators=500, \n",
    "                         max_samples=1.0, \n",
    "                         max_features=1.0, \n",
    "                         bootstrap=True, \n",
    "                         bootstrap_features=False, \n",
    "                         n_jobs=1, \n",
    "                         random_state=1)\n",
    "bag = bag.fit(iris_X_train, iris_Y_train)\n",
    "accuracyBagging = accuracy_score(iris_Y_test, bag.predict(iris_X_test))\n",
    "print('%.3f'%accuracyBagging)"
   ]
  }
 ],
 "metadata": {
  "anaconda-cloud": {},
  "kernelspec": {
   "display_name": "Python [Root]",
   "language": "python",
   "name": "Python [Root]"
  },
  "language_info": {
   "codemirror_mode": {
    "name": "ipython",
    "version": 3
   },
   "file_extension": ".py",
   "mimetype": "text/x-python",
   "name": "python",
   "nbconvert_exporter": "python",
   "pygments_lexer": "ipython3",
   "version": "3.5.2"
  }
 },
 "nbformat": 4,
 "nbformat_minor": 0
}
